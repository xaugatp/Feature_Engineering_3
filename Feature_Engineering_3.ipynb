{
 "cells": [
  {
   "cell_type": "markdown",
   "metadata": {},
   "source": [
    "Q1. What is Min-Max scaling, and how is it used in data preprocessing? Provide an example to illustrate its\n",
    "application."
   ]
  },
  {
   "cell_type": "markdown",
   "metadata": {},
   "source": [
    "\n",
    "Min-Max scaling, also known as normalization, is a data preprocessing technique used to scale numeric features within a specific range, typically between 0 and 1. It works by subtracting the minimum value of the feature and then dividing by the range of the feature (the difference between the maximum and minimum values). \n",
    "​\n",
    "\n",
    "Min-Max scaling helps to bring all the feature values onto a common scale, making it easier for machine learning algorithms to converge during training. It's especially useful when the features have different ranges, and you want to ensure that they contribute equally to the analysis.\n",
    "\n",
    "Here's how Min-Max scaling is used in data preprocessing:\n",
    "\n",
    "Identify numeric features: First, identify the numeric features in your dataset that you want to scale.\n",
    "\n",
    "Calculate minimum and maximum values: For each numeric feature, calculate the minimum and maximum values.\n",
    "\n",
    "Apply Min-Max scaling: Use the formula mentioned above to scale each feature individually. This operation should be performed on the entire dataset.\n",
    "\n",
    "Normalization range: By default, Min-Max scaling scales the values between 0 and 1. However, you can customize the range based on your requirements.\n",
    "\n",
    "Implementation: Many machine learning libraries provide built-in functions for Min-Max scaling. Alternatively, you can implement it manually using programming languages like Python.\n",
    "\n",
    "Post-processing: After scaling, you can further process the data, such as imputing missing values or applying additional transformations."
   ]
  },
  {
   "cell_type": "code",
   "execution_count": 8,
   "metadata": {},
   "outputs": [
    {
     "data": {
      "text/plain": [
       "array([[0.04359673, 0.04026846, 0.06475904],\n",
       "       [0.02152589, 0.02684564, 0.        ],\n",
       "       [0.0373297 , 0.04362416, 0.07108434],\n",
       "       ...,\n",
       "       [0.11280654, 0.10067114, 0.        ],\n",
       "       [0.03051771, 0.03355705, 0.        ],\n",
       "       [0.10490463, 0.09395973, 0.10120482]])"
      ]
     },
     "execution_count": 8,
     "metadata": {},
     "output_type": "execute_result"
    }
   ],
   "source": [
    "import pandas as pd \n",
    "import numpy as np\n",
    "import seaborn as sns\n",
    "df=sns.load_dataset('taxis')\n",
    "from sklearn.preprocessing import MinMaxScaler\n",
    "min_max=MinMaxScaler()\n",
    "min_max.fit(df[['distance','fare','tip']])\n",
    "min_max.transform(df[['distance', 'fare', 'tip']])"
   ]
  },
  {
   "cell_type": "markdown",
   "metadata": {},
   "source": [
    "Q2. What is the Unit Vector technique in feature scaling, and how does it differ from Min-Max scaling?\n",
    "Provide an example to illustrate its application."
   ]
  },
  {
   "cell_type": "markdown",
   "metadata": {},
   "source": [
    "\n",
    "The Unit Vector technique, also known as vector normalization or unit normalization, is another method of scaling features in data preprocessing. Unlike Min-Max scaling, which scales features to a specific range (usually between 0 and 1), the Unit Vector technique scales each feature such that the magnitude of each feature vector becomes 1.\n",
    "\n",
    "The Unit Vector technique and Min-Max scaling are both methods used for feature scaling in data preprocessing, but they differ in how they normalize the features.\n",
    "\n",
    "Here are the main differences between the Unit Vector technique and Min-Max scaling:\n",
    "\n",
    "Normalization approach:\n",
    "\n",
    "Unit Vector technique: Normalizes each feature vector such that its magnitude becomes 1. It focuses on preserving the direction of the original feature vectors.\n",
    "Min-Max scaling: Scales each feature to a specific range, typically between 0 and 1. It ensures that all feature values are within the same scale, irrespective of their original range.\n",
    "Effect on feature distribution:\n",
    "\n",
    "Unit Vector technique: Doesn't alter the distribution of the feature values; it only changes their scale to make them unit vectors.\n",
    "Min-Max scaling: Changes the range of the feature values, potentially altering the distribution of the features.\n",
    "Application:\n",
    "\n",
    "Unit Vector technique: Useful when the direction of the feature vectors is important, such as in clustering algorithms or when using distance-based algorithms like k-nearest neighbors.\n",
    "Min-Max scaling: Commonly used when maintaining the relative relationships between the features is essential, and the exact range of the values is not as critical.\n",
    "Handling outliers:\n",
    "\n",
    "Unit Vector technique: Typically sensitive to outliers because it normalizes the entire feature vector. Outliers can disproportionately affect the magnitude of the vectors.\n",
    "Min-Max scaling: Can be affected by outliers if they are present in the dataset, but the impact is typically less pronounced compared to the Unit Vector technique.\n",
    "Computational complexity:\n",
    "\n",
    "Unit Vector technique: Involves calculating the magnitude of each feature vector and dividing each feature by its magnitude, which can be computationally expensive for large datasets.\n",
    "Min-Max scaling: Involves subtracting the minimum value and dividing by the range, which is relatively simpler computationally."
   ]
  },
  {
   "cell_type": "code",
   "execution_count": 11,
   "metadata": {},
   "outputs": [
    {
     "data": {
      "text/plain": [
       "array([[0.80377277, 0.55160877, 0.22064351, 0.0315205 ],\n",
       "       [0.82813287, 0.50702013, 0.23660939, 0.03380134],\n",
       "       [0.80533308, 0.54831188, 0.2227517 , 0.03426949],\n",
       "       [0.80003025, 0.53915082, 0.26087943, 0.03478392],\n",
       "       [0.790965  , 0.5694948 , 0.2214702 , 0.0316386 ],\n",
       "       [0.78417499, 0.5663486 , 0.2468699 , 0.05808704],\n",
       "       [0.78010936, 0.57660257, 0.23742459, 0.0508767 ],\n",
       "       [0.80218492, 0.54548574, 0.24065548, 0.0320874 ],\n",
       "       [0.80642366, 0.5315065 , 0.25658935, 0.03665562],\n",
       "       [0.81803119, 0.51752994, 0.25041771, 0.01669451],\n",
       "       [0.80373519, 0.55070744, 0.22325977, 0.02976797],\n",
       "       [0.786991  , 0.55745196, 0.26233033, 0.03279129],\n",
       "       [0.82307218, 0.51442011, 0.24006272, 0.01714734],\n",
       "       [0.8025126 , 0.55989251, 0.20529392, 0.01866308],\n",
       "       [0.81120865, 0.55945424, 0.16783627, 0.02797271],\n",
       "       [0.77381111, 0.59732787, 0.2036345 , 0.05430253],\n",
       "       [0.79428944, 0.57365349, 0.19121783, 0.05883625],\n",
       "       [0.80327412, 0.55126656, 0.22050662, 0.04725142],\n",
       "       [0.8068282 , 0.53788547, 0.24063297, 0.04246464],\n",
       "       [0.77964883, 0.58091482, 0.22930848, 0.0458617 ],\n",
       "       [0.8173379 , 0.51462016, 0.25731008, 0.03027177],\n",
       "       [0.78591858, 0.57017622, 0.23115252, 0.06164067],\n",
       "       [0.77577075, 0.60712493, 0.16864581, 0.03372916],\n",
       "       [0.80597792, 0.52151512, 0.26865931, 0.07901744],\n",
       "       [0.776114  , 0.54974742, 0.30721179, 0.03233808],\n",
       "       [0.82647451, 0.4958847 , 0.26447184, 0.03305898],\n",
       "       [0.79778206, 0.5424918 , 0.25529026, 0.06382256],\n",
       "       [0.80641965, 0.54278246, 0.23262105, 0.03101614],\n",
       "       [0.81609427, 0.5336001 , 0.21971769, 0.03138824],\n",
       "       [0.79524064, 0.54144043, 0.27072022, 0.03384003],\n",
       "       [0.80846584, 0.52213419, 0.26948861, 0.03368608],\n",
       "       [0.82225028, 0.51771314, 0.22840286, 0.06090743],\n",
       "       [0.76578311, 0.60379053, 0.22089897, 0.0147266 ],\n",
       "       [0.77867447, 0.59462414, 0.19820805, 0.02831544],\n",
       "       [0.81768942, 0.51731371, 0.25031309, 0.03337508],\n",
       "       [0.82512295, 0.52807869, 0.19802951, 0.03300492],\n",
       "       [0.82699754, 0.52627116, 0.19547215, 0.03007264],\n",
       "       [0.78523221, 0.5769053 , 0.22435206, 0.01602515],\n",
       "       [0.80212413, 0.54690282, 0.23699122, 0.03646019],\n",
       "       [0.80779568, 0.53853046, 0.23758697, 0.03167826],\n",
       "       [0.80033301, 0.56023311, 0.20808658, 0.04801998],\n",
       "       [0.86093857, 0.44003527, 0.24871559, 0.0573959 ],\n",
       "       [0.78609038, 0.57170209, 0.23225397, 0.03573138],\n",
       "       [0.78889479, 0.55222635, 0.25244633, 0.09466737],\n",
       "       [0.76693897, 0.57144472, 0.28572236, 0.06015208],\n",
       "       [0.82210585, 0.51381615, 0.23978087, 0.05138162],\n",
       "       [0.77729093, 0.57915795, 0.24385598, 0.030482  ],\n",
       "       [0.79594782, 0.55370283, 0.24224499, 0.03460643],\n",
       "       [0.79837025, 0.55735281, 0.22595384, 0.03012718],\n",
       "       [0.81228363, 0.5361072 , 0.22743942, 0.03249135],\n",
       "       [0.76701103, 0.35063361, 0.51499312, 0.15340221],\n",
       "       [0.74549757, 0.37274878, 0.52417798, 0.17472599],\n",
       "       [0.75519285, 0.33928954, 0.53629637, 0.16417236],\n",
       "       [0.75384916, 0.31524601, 0.54825394, 0.17818253],\n",
       "       [0.7581754 , 0.32659863, 0.5365549 , 0.17496355],\n",
       "       [0.72232962, 0.35482858, 0.57026022, 0.16474184],\n",
       "       [0.72634846, 0.38046824, 0.54187901, 0.18446945],\n",
       "       [0.75916547, 0.37183615, 0.51127471, 0.15493173],\n",
       "       [0.76301853, 0.33526572, 0.53180079, 0.15029153],\n",
       "       [0.72460233, 0.37623583, 0.54345175, 0.19508524],\n",
       "       [0.76923077, 0.30769231, 0.53846154, 0.15384615],\n",
       "       [0.73923462, 0.37588201, 0.52623481, 0.187941  ],\n",
       "       [0.78892752, 0.28927343, 0.52595168, 0.13148792],\n",
       "       [0.73081412, 0.34743622, 0.56308629, 0.16772783],\n",
       "       [0.75911707, 0.3931142 , 0.48800383, 0.17622361],\n",
       "       [0.76945444, 0.35601624, 0.50531337, 0.16078153],\n",
       "       [0.70631892, 0.37838513, 0.5675777 , 0.18919257],\n",
       "       [0.75676497, 0.35228714, 0.53495455, 0.13047672],\n",
       "       [0.76444238, 0.27125375, 0.55483721, 0.18494574],\n",
       "       [0.76185188, 0.34011245, 0.53057542, 0.14964948],\n",
       "       [0.6985796 , 0.37889063, 0.56833595, 0.21312598],\n",
       "       [0.77011854, 0.35349703, 0.50499576, 0.16412362],\n",
       "       [0.74143307, 0.29421947, 0.57667016, 0.17653168],\n",
       "       [0.73659895, 0.33811099, 0.56754345, 0.14490471],\n",
       "       [0.76741698, 0.34773582, 0.51560829, 0.15588157],\n",
       "       [0.76785726, 0.34902603, 0.51190484, 0.16287881],\n",
       "       [0.76467269, 0.31486523, 0.53976896, 0.15743261],\n",
       "       [0.74088576, 0.33173989, 0.55289982, 0.18798594],\n",
       "       [0.73350949, 0.35452959, 0.55013212, 0.18337737],\n",
       "       [0.78667474, 0.35883409, 0.48304589, 0.13801311],\n",
       "       [0.76521855, 0.33391355, 0.52869645, 0.15304371],\n",
       "       [0.77242925, 0.33706004, 0.51963422, 0.14044168],\n",
       "       [0.76434981, 0.35581802, 0.51395936, 0.15814134],\n",
       "       [0.70779525, 0.31850786, 0.60162596, 0.1887454 ],\n",
       "       [0.69333409, 0.38518561, 0.57777841, 0.1925928 ],\n",
       "       [0.71524936, 0.40530797, 0.53643702, 0.19073316],\n",
       "       [0.75457341, 0.34913098, 0.52932761, 0.16893434],\n",
       "       [0.77530021, 0.28304611, 0.54147951, 0.15998258],\n",
       "       [0.72992443, 0.39103094, 0.53440896, 0.16944674],\n",
       "       [0.74714194, 0.33960997, 0.54337595, 0.17659719],\n",
       "       [0.72337118, 0.34195729, 0.57869695, 0.15782644],\n",
       "       [0.73260391, 0.36029701, 0.55245541, 0.1681386 ],\n",
       "       [0.76262994, 0.34186859, 0.52595168, 0.1577855 ],\n",
       "       [0.76986879, 0.35413965, 0.5081134 , 0.15397376],\n",
       "       [0.73544284, 0.35458851, 0.55158213, 0.1707278 ],\n",
       "       [0.73239618, 0.38547167, 0.53966034, 0.15418867],\n",
       "       [0.73446047, 0.37367287, 0.5411814 , 0.16750853],\n",
       "       [0.75728103, 0.3542121 , 0.52521104, 0.15878473],\n",
       "       [0.78258054, 0.38361791, 0.4603415 , 0.16879188],\n",
       "       [0.7431482 , 0.36505526, 0.5345452 , 0.16948994],\n",
       "       [0.65387747, 0.34250725, 0.62274045, 0.25947519],\n",
       "       [0.69052512, 0.32145135, 0.60718588, 0.22620651],\n",
       "       [0.71491405, 0.30207636, 0.59408351, 0.21145345],\n",
       "       [0.69276796, 0.31889319, 0.61579374, 0.1979337 ],\n",
       "       [0.68619022, 0.31670318, 0.61229281, 0.232249  ],\n",
       "       [0.70953708, 0.28008043, 0.61617694, 0.1960563 ],\n",
       "       [0.67054118, 0.34211284, 0.61580312, 0.23263673],\n",
       "       [0.71366557, 0.28351098, 0.61590317, 0.17597233],\n",
       "       [0.71414125, 0.26647062, 0.61821183, 0.19185884],\n",
       "       [0.69198788, 0.34599394, 0.58626751, 0.24027357],\n",
       "       [0.71562645, 0.3523084 , 0.56149152, 0.22019275],\n",
       "       [0.71576546, 0.30196356, 0.59274328, 0.21249287],\n",
       "       [0.71718148, 0.31640359, 0.58007326, 0.22148252],\n",
       "       [0.6925518 , 0.30375079, 0.60750157, 0.24300063],\n",
       "       [0.67767924, 0.32715549, 0.59589036, 0.28041899],\n",
       "       [0.69589887, 0.34794944, 0.57629125, 0.25008866],\n",
       "       [0.70610474, 0.3258945 , 0.59747324, 0.1955367 ],\n",
       "       [0.69299099, 0.34199555, 0.60299216, 0.19799743],\n",
       "       [0.70600618, 0.2383917 , 0.63265489, 0.21088496],\n",
       "       [0.72712585, 0.26661281, 0.60593821, 0.18178146],\n",
       "       [0.70558934, 0.32722984, 0.58287815, 0.23519645],\n",
       "       [0.68307923, 0.34153961, 0.59769433, 0.24395687],\n",
       "       [0.71486543, 0.25995106, 0.62202576, 0.18567933],\n",
       "       [0.73122464, 0.31338199, 0.56873028, 0.20892133],\n",
       "       [0.69595601, 0.3427843 , 0.59208198, 0.21813547],\n",
       "       [0.71529453, 0.31790868, 0.59607878, 0.17882363],\n",
       "       [0.72785195, 0.32870733, 0.56349829, 0.21131186],\n",
       "       [0.71171214, 0.35002236, 0.57170319, 0.21001342],\n",
       "       [0.69594002, 0.30447376, 0.60894751, 0.22835532],\n",
       "       [0.73089855, 0.30454106, 0.58877939, 0.1624219 ],\n",
       "       [0.72766159, 0.27533141, 0.59982915, 0.18683203],\n",
       "       [0.71578999, 0.34430405, 0.5798805 , 0.18121266],\n",
       "       [0.69417747, 0.30370264, 0.60740528, 0.2386235 ],\n",
       "       [0.72366005, 0.32162669, 0.58582004, 0.17230001],\n",
       "       [0.69385414, 0.29574111, 0.63698085, 0.15924521],\n",
       "       [0.73154399, 0.28501714, 0.57953485, 0.21851314],\n",
       "       [0.67017484, 0.36168166, 0.59571097, 0.2553047 ],\n",
       "       [0.69804799, 0.338117  , 0.59988499, 0.196326  ],\n",
       "       [0.71066905, 0.35533453, 0.56853524, 0.21320072],\n",
       "       [0.72415258, 0.32534391, 0.56672811, 0.22039426],\n",
       "       [0.69997037, 0.32386689, 0.58504986, 0.25073566],\n",
       "       [0.73337886, 0.32948905, 0.54206264, 0.24445962],\n",
       "       [0.69052512, 0.32145135, 0.60718588, 0.22620651],\n",
       "       [0.69193502, 0.32561648, 0.60035539, 0.23403685],\n",
       "       [0.68914871, 0.33943145, 0.58629069, 0.25714504],\n",
       "       [0.72155725, 0.32308533, 0.56001458, 0.24769876],\n",
       "       [0.72965359, 0.28954508, 0.57909015, 0.22005426],\n",
       "       [0.71653899, 0.3307103 , 0.57323119, 0.22047353],\n",
       "       [0.67467072, 0.36998072, 0.58761643, 0.25028107],\n",
       "       [0.69025916, 0.35097923, 0.5966647 , 0.21058754]])"
      ]
     },
     "execution_count": 11,
     "metadata": {},
     "output_type": "execute_result"
    }
   ],
   "source": [
    "import pandas as pd\n",
    "import seaborn as sns \n",
    "from sklearn.preprocessing import normalize\n",
    "df=sns.load_dataset('iris')\n",
    "normalize(df[['sepal_length','sepal_width','petal_length','petal_width']])\n",
    "\n"
   ]
  },
  {
   "cell_type": "markdown",
   "metadata": {},
   "source": [
    "Q3. What is PCA (Principle Component Analysis), and how is it used in dimensionality reduction? Provide an\n",
    "example to illustrate its application."
   ]
  },
  {
   "cell_type": "markdown",
   "metadata": {},
   "source": [
    "Principal Component Analysis (PCA) is a statistical technique used for dimensionality reduction in data analysis and machine learning. It aims to transform the original features of a dataset into a new set of orthogonal (uncorrelated) features called principal components while retaining most of the variance in the data. PCA accomplishes this by identifying the directions (principal components) in which the data varies the most.\n",
    "\n",
    "Here's how PCA works:\n",
    "\n",
    "Calculate the covariance matrix: PCA begins by calculating the covariance matrix of the original dataset. The covariance matrix provides information about the relationships between different features in the dataset.\n",
    "\n",
    "Compute the eigenvectors and eigenvalues: The next step involves computing the eigenvectors and eigenvalues of the covariance matrix. Eigenvectors represent the directions of maximum variance (principal components), and eigenvalues represent the magnitude of variance along those directions.\n",
    "\n",
    "Select principal components: PCA ranks the eigenvectors based on their corresponding eigenvalues in descending order. The eigenvector with the highest eigenvalue represents the direction of maximum variance in the data and is chosen as the first principal component. Subsequent eigenvectors are selected in order of decreasing eigenvalues to form additional principal components.\n",
    "\n",
    "Transform the data: Finally, PCA transforms the original dataset into a new feature space spanned by the selected principal components. This transformation is achieved by projecting the data onto the principal components.\n",
    "\n",
    "PCA is commonly used for dimensionality reduction in scenarios where the original dataset contains a large number of features, and there is a desire to reduce the dimensionality while preserving as much information as possible. By retaining the most significant variance in the data, PCA can help in simplifying the dataset, reducing computational complexity, and mitigating the curse of dimensionality."
   ]
  },
  {
   "cell_type": "code",
   "execution_count": 17,
   "metadata": {},
   "outputs": [
    {
     "data": {
      "image/png": "[encoded data removed]",
      "text/plain": [
       "<Figure size 1000x600 with 1 Axes>"
      ]
     },
     "metadata": {},
     "output_type": "display_data"
    }
   ],
   "source": [
    "# Importing necessary libraries\n",
    "import numpy as np\n",
    "import pandas as pd\n",
    "import matplotlib.pyplot as plt\n",
    "from sklearn.datasets import load_iris\n",
    "from sklearn.preprocessing import StandardScaler\n",
    "from sklearn.decomposition import PCA\n",
    "\n",
    "# Load the Iris dataset\n",
    "iris = load_iris()\n",
    "X = iris.data\n",
    "y = iris.target\n",
    "\n",
    "# Standardize the features\n",
    "scaler = StandardScaler()\n",
    "X_scaled = scaler.fit_transform(X)\n",
    "\n",
    "# Apply PCA\n",
    "pca = PCA(n_components=2)  # We choose 2 principal components for visualization\n",
    "X_pca = pca.fit_transform(X_scaled)\n",
    "\n",
    "# Create a DataFrame for visualization\n",
    "df_pca = pd.DataFrame(data=X_pca, columns=['PC1', 'PC2'])\n",
    "df_pca['Target'] = y\n",
    "\n",
    "# Visualize the PCA-transformed data\n",
    "plt.figure(figsize=(10, 6))\n",
    "targets = np.unique(y)\n",
    "colors = ['r', 'g', 'b']\n",
    "for target, color in zip(targets, colors):\n",
    "    indices = df_pca['Target'] == target\n",
    "    plt.scatter(df_pca.loc[indices, 'PC1'], df_pca.loc[indices, 'PC2'], c=color, s=50)\n",
    "plt.xlabel('Principal Component 1')\n",
    "plt.ylabel('Principal Component 2')\n",
    "plt.title('PCA of Iris Dataset')\n",
    "plt.legend(targets)\n",
    "plt.grid()\n",
    "plt.show()\n"
   ]
  },
  {
   "cell_type": "markdown",
   "metadata": {},
   "source": [
    "Q4. What is the relationship between PCA and Feature Extraction, and how can PCA be used for Feature\n",
    "Extraction? Provide an example to illustrate this concept."
   ]
  },
  {
   "cell_type": "markdown",
   "metadata": {},
   "source": [
    "Principal Component Analysis (PCA) is closely related to feature extraction, as PCA itself is a technique used for feature extraction. Feature extraction involves transforming the original features of a dataset into a new set of features that are more compact, informative, and representative. These extracted features often capture the essential information contained in the original features while reducing redundancy and noise.\n",
    "\n",
    "PCA accomplishes feature extraction by identifying the directions (principal components) in which the data varies the most. These principal components are linear combinations of the original features and are chosen to maximize the variance of the data. By selecting a subset of principal components that capture the most significant variance, PCA effectively reduces the dimensionality of the dataset while retaining most of its important information.\n",
    "\n",
    "Here's how PCA can be used for feature extraction:\n",
    "\n",
    "1. **Compute the covariance matrix**: PCA begins by computing the covariance matrix of the original dataset, which represents the relationships between different features.\n",
    "\n",
    "2. **Calculate eigenvectors and eigenvalues**: PCA then calculates the eigenvectors and eigenvalues of the covariance matrix. The eigenvectors represent the directions of maximum variance (principal components), and the corresponding eigenvalues represent the magnitude of variance along those directions.\n",
    "\n",
    "3. **Select principal components**: PCA selects a subset of the eigenvectors (principal components) based on their corresponding eigenvalues. Typically, the principal components with the highest eigenvalues are chosen to capture the most significant variance in the data.\n",
    "\n",
    "4. **Transform the data**: Finally, PCA transforms the original dataset into a new feature space spanned by the selected principal components. This transformation effectively extracts the most informative features from the original dataset, resulting in a lower-dimensional representation of the data.\n",
    "\n",
    "Here's an example to illustrate how PCA can be used for feature extraction:\n",
    "\n",
    "Suppose we have a dataset containing images of handwritten digits, where each image is represented by a large number of pixel values. We want to extract the most informative features from these images to facilitate classification tasks such as digit recognition.\n",
    "\n",
    "1. **Data preprocessing**: We preprocess the images by flattening them into one-dimensional arrays and standardizing the pixel values to have a mean of 0 and a standard deviation of 1.\n",
    "\n",
    "2. **Applying PCA**: We apply PCA to the standardized pixel values to extract the principal components that capture the most significant variance in the images.\n",
    "\n",
    "3. **Dimensionality reduction**: We select a subset of principal components that explain a significant portion of the variance in the data. For example, we might choose the first 50 principal components, which collectively capture 90% of the variance.\n",
    "\n",
    "4. **Transforming the data**: We transform the original pixel values into a lower-dimensional representation by projecting them onto the selected principal components. This results in a new set of features that capture the essential information contained in the original images.\n",
    "\n",
    "By using PCA for feature extraction, we have effectively reduced the dimensionality of the dataset while preserving most of the important information, making it more suitable for subsequent classification tasks."
   ]
  },
  {
   "cell_type": "markdown",
   "metadata": {},
   "source": [
    "Q5. You are working on a project to build a recommendation system for a food delivery service. The dataset\n",
    "contains features such as price, rating, and delivery time. Explain how you would use Min-Max scaling to\n",
    "preprocess the data."
   ]
  },
  {
   "cell_type": "markdown",
   "metadata": {},
   "source": [
    "Identify the features: First, identify the relevant features from the dataset that you want to scale. In this case, features such as price, rating, and delivery time are mentioned. These are numeric features that need to be scaled.\n",
    "\n",
    "Compute the minimum and maximum values: Calculate the minimum and maximum values for each feature. For example, find the minimum and maximum prices, ratings, and delivery times in the dataset.\n",
    "\n",
    "Apply Min-Max scaling: Use the Min-Max scaling formula to scale each feature individually\n",
    "\n",
    "Implementation: Implement the Min-Max scaling in your chosen programming language (e.g., Python). Many libraries, such as scikit-learn, provide built-in functions for Min-Max scaling. Alternatively, you can implement it manually.\n",
    "\n",
    "Apply scaled data in recommendation system: Once the data has been scaled using Min-Max scaling, you can use the scaled features in your recommendation system algorithm. Whether you're using collaborative filtering, content-based filtering, or a hybrid approach, the scaled features will ensure that each feature contributes equally to the recommendation process without being skewed by differences in their original ranges.\n",
    "\n",
    "Monitor and adjust: After implementing the recommendation system, monitor its performance and adjust the scaling parameters if necessary. For example, if the range of a feature changes significantly over time (e.g., price fluctuations), you may need to recompute the minimum and maximum values and rescale the data accordingly.\n",
    "\n",
    "By using Min-Max scaling, you ensure that all features are scaled to a common range (typically 0 to 1), which helps in making fair comparisons between different features and improves the performance of the recommendation system.\n",
    "\n"
   ]
  },
  {
   "cell_type": "markdown",
   "metadata": {},
   "source": [
    "Q6. You are working on a project to build a model to predict stock prices. The dataset contains many\n",
    "features, such as company financial data and market trends. Explain how you would use PCA to reduce the\n",
    "dimensionality of the dataset."
   ]
  },
  {
   "cell_type": "markdown",
   "metadata": {},
   "source": [
    "To use Principal Component Analysis (PCA) to reduce the dimensionality of the dataset for predicting stock prices, follow these steps:\n",
    "\n",
    "1. **Data preprocessing**: Start by preprocessing the dataset, which involves cleaning the data, handling missing values, and ensuring all features are numeric and on a similar scale. For financial data, this might include features such as earnings, revenue, profit margins, etc., while market trends could include indicators like moving averages, volume, volatility, etc.\n",
    "\n",
    "2. **Standardization**: Standardize the features by scaling them to have a mean of 0 and a standard deviation of 1. This step is crucial for PCA, as it ensures that each feature contributes equally to the analysis.\n",
    "\n",
    "3. **Apply PCA**: Once the data is preprocessed and standardized, apply PCA to the dataset to extract the principal components. PCA identifies the directions (principal components) in which the data varies the most, thereby reducing the dimensionality of the dataset while retaining most of the variance.\n",
    "\n",
    "4. **Choose the number of components**: Decide on the number of principal components to retain. This can be determined based on the cumulative explained variance ratio, which indicates the proportion of variance explained by each principal component. A common approach is to retain enough principal components to capture a significant portion (e.g., 90%) of the total variance in the data.\n",
    "\n",
    "5. **Dimensionality reduction**: Transform the original dataset into a lower-dimensional space by selecting the chosen number of principal components. This reduces the dimensionality of the dataset while retaining most of the important information.\n",
    "\n",
    "6. **Modeling**: Use the reduced-dimensional dataset as input to train your predictive model for stock price prediction. You can use various machine learning algorithms such as linear regression, support vector machines, or neural networks for this task.\n",
    "\n",
    "7. **Evaluation and tuning**: Evaluate the performance of the predictive model using appropriate evaluation metrics (e.g., Mean Squared Error for regression tasks). If necessary, fine-tune the model hyperparameters or experiment with different algorithms to improve performance.\n",
    "\n",
    "By using PCA to reduce the dimensionality of the dataset, you can mitigate the curse of dimensionality, improve computational efficiency, and potentially enhance the predictive performance of the model by focusing on the most informative features. However, it's essential to strike a balance between dimensionality reduction and retaining enough information to make accurate predictions. Experimentation and validation on a hold-out dataset are crucial to ensure the effectiveness of the PCA-based dimensionality reduction approach."
   ]
  },
  {
   "cell_type": "markdown",
   "metadata": {},
   "source": [
    "Q7. For a dataset containing the following values: [1, 5, 10, 15, 20], perform Min-Max scaling to transform the\n",
    "values to a range of -1 to 1."
   ]
  },
  {
   "cell_type": "code",
   "execution_count": 21,
   "metadata": {},
   "outputs": [
    {
     "data": {
      "text/plain": [
       "array([[0.        ],\n",
       "       [0.21052632],\n",
       "       [0.47368421],\n",
       "       [0.73684211],\n",
       "       [1.        ]])"
      ]
     },
     "execution_count": 21,
     "metadata": {},
     "output_type": "execute_result"
    }
   ],
   "source": [
    "import pandas as pd \n",
    "from sklearn.preprocessing import MinMaxScaler\n",
    "data=[[1,5,10,15,20]]\n",
    "l1=pd.DataFrame(data).T\n",
    "scalar=MinMaxScaler()\n",
    "scalar.fit(l1)\n",
    "scalar.transform(l1)\n"
   ]
  },
  {
   "cell_type": "markdown",
   "metadata": {},
   "source": [
    "Q8. For a dataset containing the following features: [height, weight, age, gender, blood pressure], perform\n",
    "Feature Extraction using PCA. How many principal components would you choose to retain, and why?"
   ]
  },
  {
   "cell_type": "markdown",
   "metadata": {},
   "source": [
    "To perform feature extraction using PCA for the dataset containing features [height, weight, age, gender, blood pressure], you would follow these steps:\n",
    "\n",
    "1. **Data preprocessing**: Standardize the features to ensure they have a mean of 0 and a standard deviation of 1. This step is crucial for PCA.\n",
    "\n",
    "2. **Apply PCA**: Compute the principal components of the standardized data.\n",
    "\n",
    "3. **Determine the number of principal components to retain**: Decide on the number of principal components to retain based on various factors such as the cumulative explained variance ratio, the desired level of information retention, and the specific requirements of your analysis or model.\n",
    "\n",
    "Here's how you could approach choosing the number of principal components to retain:\n",
    "\n",
    "- **Cumulative explained variance ratio**: Plot the cumulative explained variance ratio and choose the number of principal components that capture a significant portion of the total variance in the data. Typically, you might aim to retain enough principal components to explain at least 80-90% of the variance.\n",
    "\n",
    "- **Scree plot**: Plot the eigenvalues of the principal components (known as a scree plot) and look for the point at which the eigenvalues start to level off. This point indicates the number of principal components that contain most of the information in the data.\n",
    "\n",
    "- **Domain knowledge**: Consider the interpretability of the principal components and whether they align with the underlying structure of the data or meaningful features in your domain. For example, in the case of anthropometric data like height, weight, and age, you might expect the first few principal components to capture variations related to body size and shape.\n",
    "\n",
    "Without specific data or domain knowledge, it's challenging to determine the exact number of principal components to retain. However, a common approach is to start by retaining enough principal components to explain a significant portion of the variance in the data (e.g., 80-90%) and then evaluate the performance of your analysis or model with different numbers of principal components.\n",
    "\n",
    "In summary, the number of principal components to retain depends on the balance between information retention, interpretability, and the specific requirements of your analysis or model. It's essential to experiment with different numbers of principal components and evaluate their impact on the performance of your analysis or model."
   ]
  },
  {
   "cell_type": "markdown",
   "metadata": {},
   "source": []
  }
 ],
 "metadata": {
  "kernelspec": {
   "display_name": "Python 3",
   "language": "python",
   "name": "python3"
  },
  "language_info": {
   "codemirror_mode": {
    "name": "ipython",
    "version": 3
   },
   "file_extension": ".py",
   "mimetype": "text/x-python",
   "name": "python",
   "nbconvert_exporter": "python",
   "pygments_lexer": "ipython3",
   "version": "3.11.7"
  }
 },
 "nbformat": 4,
 "nbformat_minor": 2
}
